{
 "cells": [
  {
   "cell_type": "markdown",
   "metadata": {},
   "source": [
    "# Εργασία 1"
   ]
  },
  {
   "cell_type": "markdown",
   "metadata": {},
   "source": [
    "## Α. Αναγνώριση μονών και ζυγών αριθμών στα δεκαδικά ψηφία της MNIST"
   ]
  },
  {
   "cell_type": "markdown",
   "metadata": {},
   "source": [
    "### 1. Προετοιμασία των δεδομένων"
   ]
  },
  {
   "cell_type": "markdown",
   "metadata": {},
   "source": [
    "Σκοπός της εργασίας είναι η αξιολόγηση μοντέλων τα οποία κατηγοριοποιούν εικόνες από χειρόγραφα ψηφία σε μονούς και ζυγούς αριθμούς."
   ]
  },
  {
   "cell_type": "markdown",
   "metadata": {},
   "source": [
    "Τα δεδομένα περιέχονται στο αρχείο mnist_all.mat. Το διάβασμα του αρχείου γίνεται με την συνάρτηση scipy.io.loadmat η οποία επιστρέφει ένα dictionary το οποίο έχει κλειδια τα 'train0', 'train1', 'train2',... και 'test0', 'test1', 'test2',... και data τις εικόνες των αντίστοιχων ψηφίων."
   ]
  },
  {
   "cell_type": "markdown",
   "metadata": {},
   "source": [
    "Παρακάτω βλέπουμε τις εκδόσεις των βιβλιοθηκών που χρησιμοποιήθηκαν στην εργασία."
   ]
  },
  {
   "cell_type": "code",
   "execution_count": 1,
   "metadata": {},
   "outputs": [
    {
     "name": "stdout",
     "output_type": "stream",
     "text": [
      "Python version: 3.7.9 (default, Aug 31 2020, 17:10:11) [MSC v.1916 64 bit (AMD64)]\n",
      "scikit-learn version: 0.23.2\n",
      "numpy version: 1.19.2\n",
      "matplotlib version: 3.3.2\n"
     ]
    }
   ],
   "source": [
    "import numpy as np\n",
    "import matplotlib\n",
    "import sklearn\n",
    "import sys\n",
    "\n",
    "print(\"Python version:\", sys.version)\n",
    "print('scikit-learn version:', sklearn.__version__)\n",
    "print('numpy version:', np.__version__)\n",
    "print('matplotlib version:', matplotlib.__version__)"
   ]
  },
  {
   "cell_type": "markdown",
   "metadata": {},
   "source": [
    "Τα δεδομένα περιέχονται στο αρχείο mnist_all.mat. Το διάβασμα του αρχείου γίνεται με την συνάρτηση scipy.io.loadmat η οποία επιστρέφει ένα dictionary το οποίο έχει κλειδια τα 'train0', 'train1', 'train2',... και 'test0', 'test1', 'test2',... και data τις εικόνες των αντίστοιχων ψηφίων."
   ]
  },
  {
   "cell_type": "code",
   "execution_count": 2,
   "metadata": {},
   "outputs": [
    {
     "data": {
      "text/plain": [
       "dict_keys(['__header__', '__version__', '__globals__', 'train0', 'test0', 'train1', 'test1', 'train2', 'test2', 'train3', 'test3', 'train4', 'test4', 'train5', 'test5', 'train6', 'test6', 'train7', 'test7', 'train8', 'test8', 'train9', 'test9'])"
      ]
     },
     "execution_count": 2,
     "metadata": {},
     "output_type": "execute_result"
    }
   ],
   "source": [
    "import scipy.io\n",
    "import urllib.request\n",
    "import os\n",
    "\n",
    "np.random.seed(0)\n",
    "\n",
    "url = 'https://cs.nyu.edu/~roweis/data/mnist_all.mat'\n",
    "filename = 'mnist_all.mat'\n",
    "\n",
    "if not os.path.exists(filename):\n",
    "    print('Downloading file...')\n",
    "    urllib.request.urlretrieve(url, filename)\n",
    "    print('Done.')\n",
    "\n",
    "mat = scipy.io.loadmat(filename)\n",
    "mat.keys()"
   ]
  },
  {
   "cell_type": "markdown",
   "metadata": {},
   "source": [
    "Οι εικόνες των ψηφίων έχουν μέγεθος 784 = 28x28."
   ]
  },
  {
   "cell_type": "markdown",
   "metadata": {},
   "source": [
    "Σκοπός της εργασίας είναι η αξιολόγηση μοντέλων τα οποία κατηγοριοποιούν εικόνες από χειρόγραφα ψηφία σε μονούς και ζυγούς αριθμούς. Τα δεδομένα περιέχονται στο αρχείο mnist_all.mat. Το διάβασμα του αρχείου γίνεται με την συνάρτηση scipy.io.loadmat η οποία επιστρέφει ένα dictionary το οποίο έχει κλειδια τα 'train0', 'train1', 'train2',... και 'test0', 'test1', 'test2',... και data τις εικόνες των αντίστοιχων ψηφίων."
   ]
  },
  {
   "cell_type": "code",
   "execution_count": 3,
   "metadata": {},
   "outputs": [
    {
     "data": {
      "text/plain": [
       "(784,)"
      ]
     },
     "execution_count": 3,
     "metadata": {},
     "output_type": "execute_result"
    }
   ],
   "source": [
    "digit = mat['train2'][0]\n",
    "digit.shape"
   ]
  },
  {
   "cell_type": "markdown",
   "metadata": {},
   "source": [
    "Παρακάτω φαίνονται οι εικόνες πέντε ψηφίων."
   ]
  },
  {
   "cell_type": "code",
   "execution_count": 4,
   "metadata": {},
   "outputs": [
    {
     "data": {
      "image/png": "[encoded data removed]",
      "text/plain": [
       "<Figure size 720x720 with 5 Axes>"
      ]
     },
     "metadata": {
      "needs_background": "light"
     },
     "output_type": "display_data"
    }
   ],
   "source": [
    "import matplotlib.pyplot as plt\n",
    "%matplotlib inline\n",
    "\n",
    "n = 5\n",
    "fig, axs = plt.subplots(1, n, figsize=(10, 10))\n",
    "plt.subplots_adjust(wspace=0.5)\n",
    "for i in range(n):\n",
    "    digit = mat['train' + str(i)][0]\n",
    "    digit = digit.reshape((28, 28))\n",
    "    axs[i].imshow(digit, cmap=plt.cm.binary)\n",
    "plt.show()"
   ]
  },
  {
   "cell_type": "markdown",
   "metadata": {},
   "source": [
    "Οι είκονες και οι ετικέτες φορτώνονται σε numpy arrays. Το μέγεθος του train set είναι 60000 και του test set 10000. Η κανονικοποίηση στο διάστημα [0, 1] γίνεται με διαίρεση με το 255 το οποίο είναι η μέγιστη τιμή της φωτεινότητας ενός pixel."
   ]
  },
  {
   "cell_type": "code",
   "execution_count": 5,
   "metadata": {},
   "outputs": [
    {
     "name": "stdout",
     "output_type": "stream",
     "text": [
      "x_train.shape = (60000, 784)\n",
      "y_train.shape = (60000,)\n",
      "x_test.shape = (10000, 784)\n",
      "y_test.shape = (10000,)\n"
     ]
    }
   ],
   "source": [
    "x_train, y_train, x_test, y_test = [], [], [], []\n",
    "\n",
    "for key, data in mat.items():\n",
    "    if 'train' in key:\n",
    "        for x in data:\n",
    "            x_train.append(x)\n",
    "            num = int(key[-1])\n",
    "            y_train.append(num)\n",
    "    if 'test' in key:\n",
    "        for x in data:\n",
    "            x_test.append(x)\n",
    "            num = int(key[-1])\n",
    "            y_test.append(num)\n",
    "\n",
    "x_train = np.array(x_train)\n",
    "y_train = np.array(y_train)\n",
    "x_test = np.array(x_test)\n",
    "y_test = np.array(y_test)\n",
    "x_test_original = x_test\n",
    "\n",
    "print('x_train.shape =', x_train.shape)\n",
    "print('y_train.shape =', y_train.shape)\n",
    "print('x_test.shape =', x_test.shape)\n",
    "print('y_test.shape =', y_test.shape)"
   ]
  },
  {
   "cell_type": "code",
   "execution_count": 6,
   "metadata": {},
   "outputs": [
    {
     "name": "stdout",
     "output_type": "stream",
     "text": [
      "\n",
      "x_train is in [0.0, 1.0]\n",
      "x_test is in [0.0, 1.0]\n"
     ]
    }
   ],
   "source": [
    "x_train = x_train/255.\n",
    "x_test = x_test/255.\n",
    "\n",
    "print()\n",
    "print('x_train is in [{}, {}]'.format(np.min(x_train), np.max(x_train)))\n",
    "print('x_test is in [{}, {}]'.format(np.min(x_test), np.max(x_test)))"
   ]
  },
  {
   "cell_type": "markdown",
   "metadata": {},
   "source": [
    "Το παρακάτω ιστόγραμμα μας δείχνει ότι οι κλάσεις των ψηφίων είναι ζυγισμένες. "
   ]
  },
  {
   "cell_type": "code",
   "execution_count": 7,
   "metadata": {},
   "outputs": [
    {
     "data": {
      "image/png": "[encoded data removed]",
      "text/plain": [
       "<Figure size 432x288 with 1 Axes>"
      ]
     },
     "metadata": {
      "needs_background": "light"
     },
     "output_type": "display_data"
    }
   ],
   "source": [
    "plt.hist(y_train, label='Train set', rwidth=0.8)\n",
    "plt.title('Histogram')\n",
    "plt.ylabel('Number of digits')\n",
    "plt.xlabel('Digits')\n",
    "plt.legend()\n",
    "plt.show()"
   ]
  },
  {
   "cell_type": "markdown",
   "metadata": {},
   "source": [
    "Λόγω του μεγάλου μεγέθους των δεδομένων, ως μέθοδος αξιολόγησης των μοντέλων, για την επιλογή των παραμέτρων τους, επιλέγεται η διαστρωματωμένη παρακράτηση (stratified holdout). Χρησιμοποιώντας αυτή τη μέθοδο χωρίζεται το train set ξανά σε train set και validation set διασφαλίζοντας ότι η κατανομή των κλάσεων παραμένει η ίδια και στα δύο set. Έτσι όλα τα ψηφία αντιπροσωπεύονται ισάξια."
   ]
  },
  {
   "cell_type": "code",
   "execution_count": 8,
   "metadata": {},
   "outputs": [
    {
     "name": "stdout",
     "output_type": "stream",
     "text": [
      "x_train.shape = (36000, 784)\n",
      "y_train.shape = (36000,)\n",
      "x_val.shape = (24000, 784)\n",
      "y_val.shape = (24000,)\n"
     ]
    }
   ],
   "source": [
    "from sklearn import model_selection\n",
    "\n",
    "x_train_all = x_train\n",
    "y_train_all = y_train\n",
    "\n",
    "split = model_selection.StratifiedShuffleSplit(n_splits=1, test_size=0.4, random_state=0)\n",
    "\n",
    "for train_index, val_index in split.split(x_train_all, y_train_all):\n",
    "    x_train, y_train = x_train_all[train_index], y_train_all[train_index]\n",
    "    x_val, y_val = x_train_all[val_index], y_train_all[val_index]\n",
    "\n",
    "print('x_train.shape =', x_train.shape)\n",
    "print('y_train.shape =', y_train.shape)\n",
    "print('x_val.shape =', x_val.shape)\n",
    "print('y_val.shape =', y_val.shape)"
   ]
  },
  {
   "cell_type": "code",
   "execution_count": 9,
   "metadata": {},
   "outputs": [
    {
     "data": {
      "image/png": "[encoded data removed]",
      "text/plain": [
       "<Figure size 432x288 with 1 Axes>"
      ]
     },
     "metadata": {
      "needs_background": "light"
     },
     "output_type": "display_data"
    }
   ],
   "source": [
    "plt.hist((y_train, y_val), label=('Train set', 'Validation set'), rwidth=0.8)\n",
    "plt.title('Histogram')\n",
    "plt.ylabel('Number of digits')\n",
    "plt.xlabel('Digits')\n",
    "plt.legend()\n",
    "plt.show()"
   ]
  },
  {
   "cell_type": "markdown",
   "metadata": {},
   "source": [
    "Αλλάζουμε τις ετικέτες σε 0 και 1 έτσι ώστε να αντιπροσωπεύουν τους ζυγούς και τους μονούς αριθμούς αντίστοιχα."
   ]
  },
  {
   "cell_type": "code",
   "execution_count": 10,
   "metadata": {},
   "outputs": [],
   "source": [
    "y_train = y_train % 2\n",
    "y_val = y_val % 2\n",
    "y_test = y_test % 2"
   ]
  },
  {
   "cell_type": "markdown",
   "metadata": {},
   "source": [
    "### 2. Μείωση διαστάσεων"
   ]
  },
  {
   "cell_type": "markdown",
   "metadata": {},
   "source": [
    "Γίνεται μείωση των διαστάσεων με την τεχνική PCA διατηρώντας το 90% της διασποράς. Η διάσταση των δεδομένων μειώνεται από 784 σε 87."
   ]
  },
  {
   "cell_type": "code",
   "execution_count": 11,
   "metadata": {},
   "outputs": [
    {
     "name": "stdout",
     "output_type": "stream",
     "text": [
      "x_train_all.shape = (60000, 87)\n",
      "x_train.shape = (36000, 87)\n",
      "x_val.shape = (24000, 87)\n",
      "x_test.shape = (10000, 87)\n"
     ]
    }
   ],
   "source": [
    "from sklearn import decomposition\n",
    "\n",
    "pca = decomposition.PCA(n_components=0.9, svd_solver='full')\n",
    "x_train = pca.fit_transform(x_train)\n",
    "x_val = pca.transform(x_val)\n",
    "x_test = pca.transform(x_test)\n",
    "\n",
    "x_train_all = np.concatenate((x_train, x_val))\n",
    "y_train_all = np.concatenate((y_train, y_val))\n",
    "\n",
    "print('x_train_all.shape =', x_train_all.shape)\n",
    "print('x_train.shape =', x_train.shape)\n",
    "print('x_val.shape =', x_val.shape)\n",
    "print('x_test.shape =', x_test.shape)"
   ]
  },
  {
   "cell_type": "markdown",
   "metadata": {},
   "source": [
    "Οι κλάσεις δεν φαίνονται διαχωρίσιμες στο επίπεδο των δυο πρώτων ιδιοδιανυσμάτων."
   ]
  },
  {
   "cell_type": "code",
   "execution_count": 12,
   "metadata": {},
   "outputs": [
    {
     "data": {
      "image/png": "[encoded data removed]",
      "text/plain": [
       "<Figure size 432x288 with 2 Axes>"
      ]
     },
     "metadata": {
      "needs_background": "light"
     },
     "output_type": "display_data"
    }
   ],
   "source": [
    "plt.scatter(x_train[:1000, 0], x_train[:1000, 1], c=y_train[:1000], cmap='viridis', alpha=0.4)\n",
    "plt.xlabel('1st eigenvector')\n",
    "plt.ylabel('2nd eigenvector')\n",
    "plt.colorbar()\n",
    "plt.show()"
   ]
  },
  {
   "cell_type": "markdown",
   "metadata": {},
   "source": [
    "### 3.  Αξιολόγηση μοντέλων"
   ]
  },
  {
   "cell_type": "markdown",
   "metadata": {},
   "source": [
    "#### 3.1 Περιγραφή της διαδικασίας"
   ]
  },
  {
   "cell_type": "markdown",
   "metadata": {},
   "source": [
    "Η συνάρτηση grid_search αξιολογεί το κάθε μοντέλο στο validation set για διάφορες τιμές των παραμέτρων. Ως μετρική αξιολόγησης επιλέγεται το accuracy επείδη οι κλάσεις είναι ζυγισμένες και οι λάθος αποφάσεις για μονό ή ζυγό αριθμό θεωρούνται εξίσου σημαντικές. Έπειτα η plot_grid_search δημιουργεί διαγράμματα για το accuracy και τον χρόνο εκπαίδευσης. Τέλος η συνάρτηση evaluate_model εκπαιδεύει το βέλτιστο μοντέλο εκ νέου σε ολόκληρο το training set και το αξιολογεί στο test set και δίνει κάποια παραδείγματα σωστής και λάθους κατηγοριοποίησης."
   ]
  },
  {
   "cell_type": "code",
   "execution_count": 13,
   "metadata": {},
   "outputs": [],
   "source": [
    "from collections import defaultdict\n",
    "from sklearn import metrics\n",
    "from time import time\n",
    "\n",
    "\n",
    "def grid_search(model, param_dict, x_train, y_train, x_val, y_val, verbose=0):\n",
    "    param_grid = model_selection.ParameterGrid(param_dict)\n",
    "    all_params = list(param_grid)\n",
    "    num = len(all_params)\n",
    "    train_acc = np.zeros(num)\n",
    "    val_acc = np.zeros(num)\n",
    "    t = np.zeros(num)\n",
    "    \n",
    "    for i, params in enumerate(param_grid):\n",
    "        model.set_params(**params)\n",
    "        t1 = time()\n",
    "        model.fit(x_train, y_train)\n",
    "        t2 = time()\n",
    "        t[i] = t2 - t1\n",
    "        y_train_pred = model.predict(x_train)\n",
    "        y_val_pred = model.predict(x_val)\n",
    "        train_acc[i] = metrics.accuracy_score(y_train, y_train_pred)\n",
    "        val_acc[i] = metrics.accuracy_score(y_val, y_val_pred)\n",
    "        if verbose >= 2:\n",
    "            print('[{}/{}] {}: Train accuracy = {:.5f}, Validation accuracy = {:.5f} | t = {} sec = {:.1f} min'\n",
    "             .format(i+1, num, params, train_acc[i], val_acc[i], int(t[i]), t[i]/60))\n",
    "    \n",
    "    best_i = np.argmax(val_acc)\n",
    "    best_params = all_params[best_i]\n",
    "    if verbose >= 1:\n",
    "        print()\n",
    "        print('Best params =', best_params)\n",
    "        print('Maximum validation accuracy =', val_acc[best_i])\n",
    "        print()\n",
    "    \n",
    "    results = {\n",
    "        \"params\" : all_params,\n",
    "        \"train_score\": train_acc,\n",
    "        \"val_score\": val_acc,\n",
    "        \"time\": t,\n",
    "        \"best_index\": best_i,\n",
    "        \"best_params\": best_params\n",
    "    }\n",
    "    \n",
    "    return results\n",
    "\n",
    "\n",
    "def plot_grid_search(results, param1, xscale='linear', param2=None):\n",
    "    all_params = results[\"params\"]\n",
    "    train_acc = results[\"train_score\"]\n",
    "    val_acc = results[\"val_score\"]\n",
    "    t = results[\"time\"]\n",
    "    train_acc_dict = defaultdict(lambda: [])\n",
    "    val_acc_dict = defaultdict(lambda: [])\n",
    "    t_dict = defaultdict(lambda: [])\n",
    "    values1_dict = defaultdict(lambda: [])\n",
    "    \n",
    "    for i, params in enumerate(all_params):\n",
    "        if param2 in params:\n",
    "            val2 = params[param2]\n",
    "        else:\n",
    "            val2 = None\n",
    "        train_acc_dict[val2].append(train_acc[i])\n",
    "        val_acc_dict[val2].append(val_acc[i])\n",
    "        t_dict[val2].append(t[i])\n",
    "        values1_dict[val2].append(params[param1])\n",
    "    \n",
    "    for val2, val_acc_vals in val_acc_dict.items():\n",
    "        values1 = values1_dict[val2]\n",
    "        if val2 is not None:\n",
    "            label = param2 + ' = ' + str(val2) + ' (Validation)'\n",
    "        else:\n",
    "            label = 'Validation'\n",
    "        plt.plot(values1, val_acc_vals, label=label)\n",
    "    \n",
    "    for val2, train_acc_vals in train_acc_dict.items():\n",
    "        values1 = values1_dict[val2]\n",
    "        if val2 is not None:\n",
    "            label = param2 + ' = ' + str(val2) + ' (Train)'\n",
    "        else:\n",
    "            label = 'Train'\n",
    "        plt.plot(values1, train_acc_vals, label=label, linestyle='dashed')\n",
    "        \n",
    "    plt.title('Score')\n",
    "    plt.ylabel('Accuracy')\n",
    "    plt.xlabel(param1)\n",
    "    plt.xscale(xscale)\n",
    "    plt.legend()\n",
    "    plt.show()\n",
    "    \n",
    "    for val2, t_vals in t_dict.items():\n",
    "        values1 = values1_dict[val2]\n",
    "        if val2 is not None:\n",
    "            label = param2 + ' = ' + str(val2)\n",
    "        else:\n",
    "            label = None\n",
    "        plt.plot(values1, t_vals, label=label)\n",
    "        \n",
    "    plt.title('Training time')\n",
    "    plt.ylabel('Time (sec)')\n",
    "    plt.xlabel(param1)\n",
    "    plt.xscale(xscale)\n",
    "    if param2 is not None:\n",
    "        plt.legend()\n",
    "    plt.show()\n",
    "\n",
    "\n",
    "def evaluate_model(model, best_params, x_train, y_train, x_test, y_test):   \n",
    "    print('Training on the original training set with params =', best_params)\n",
    "    model.set_params(**best_params)\n",
    "    t1 = time()\n",
    "    model.fit(x_train, y_train)\n",
    "    t2 = time()\n",
    "    print('Training time = {} sec = {:.1f} min'.format(int(t2 - t1), (t2 - t1)/60))\n",
    "    y_train_pred = model.predict(x_train)\n",
    "    y_test_pred = model.predict(x_test)\n",
    "    print('Train accuracy =', metrics.accuracy_score(y_train, y_train_pred)) \n",
    "    print('Test accuracy =', metrics.accuracy_score(y_test, y_test_pred))\n",
    "    \n",
    "    n = 5\n",
    "    correct_indices = np.where(y_test == y_test_pred)[0]\n",
    "    incorrect_indices = np.where(y_test != y_test_pred)[0]\n",
    "    np.random.shuffle(correct_indices)\n",
    "    np.random.shuffle(incorrect_indices)\n",
    "    \n",
    "    fig, axs = plt.subplots(1, n, figsize=(10, 10))\n",
    "    plt.subplots_adjust(wspace=0.5)\n",
    "    for j, i in enumerate(correct_indices[:n]):\n",
    "        digit = x_test_original[i].reshape((28, 28))\n",
    "        axs[j].imshow(digit, cmap=plt.cm.binary)\n",
    "        axs[j].set_title(\"Correct\")\n",
    "    plt.show()\n",
    "    \n",
    "    fig, axs = plt.subplots(1, n, figsize=(10, 10))\n",
    "    plt.subplots_adjust(wspace=0.5)\n",
    "    for j, i in enumerate(incorrect_indices[:n]):\n",
    "        digit = x_test_original[i].reshape((28, 28))\n",
    "        axs[j].imshow(digit, cmap=plt.cm.binary)\n",
    "        axs[j].set_title(\"Error\")\n",
    "    plt.show()"
   ]
  },
  {
   "cell_type": "markdown",
   "metadata": {},
   "source": [
    "#### 3.2  Linear SVM"
   ]
  },
  {
   "cell_type": "markdown",
   "metadata": {},
   "source": [
    "Ακολουθεί βελτιστοποίηση του SVM classifier με linear kernel ως προς την παράμετρο C. Το C είναι η παράμετρος αντιστάθμισης μεταξύ της προσπάθειας για μέγιστο περιθώριο μεταξύ των κλάσεων και για ελάχιστο αριθμό λαθών."
   ]
  },
  {
   "cell_type": "markdown",
   "metadata": {},
   "source": [
    "$ Loss = \\mathbf{w}^T\\mathbf{w} + C\\sum_{k=1}^R\\varepsilon_{k}\\ $"
   ]
  },
  {
   "cell_type": "markdown",
   "metadata": {},
   "source": [
    "Kernel: $ K(\\mathbf{x}, \\mathbf{x}') = \\langle\\mathbf{x},\\mathbf{x}'\\rangle $"
   ]
  },
  {
   "cell_type": "code",
   "execution_count": null,
   "metadata": {},
   "outputs": [
    {
     "name": "stdout",
     "output_type": "stream",
     "text": [
      "[1/7] {'C': 0.001}: Train accuracy = 0.87633, Validation accuracy = 0.87621 | t = 67 sec = 1.1 min\n",
      "[2/7] {'C': 0.005}: Train accuracy = 0.88219, Validation accuracy = 0.88204 | t = 62 sec = 1.0 min\n",
      "[3/7] {'C': 0.01}: Train accuracy = 0.88300, Validation accuracy = 0.88287 | t = 57 sec = 1.0 min\n",
      "[4/7] {'C': 0.05}: Train accuracy = 0.88297, Validation accuracy = 0.88296 | t = 66 sec = 1.1 min\n",
      "[5/7] {'C': 0.1}: Train accuracy = 0.88306, Validation accuracy = 0.88296 | t = 88 sec = 1.5 min\n"
     ]
    }
   ],
   "source": [
    "from sklearn import svm\n",
    "\n",
    "param_dict = {\n",
    "    'C': (0.001, 0.005, 0.01, 0.05, 0.1, 0.5, 1.)\n",
    "}\n",
    "\n",
    "model = svm.SVC(kernel='linear')\n",
    "results = grid_search(model, param_dict, x_train, y_train, x_val, y_val, verbose=2)"
   ]
  },
  {
   "cell_type": "code",
   "execution_count": null,
   "metadata": {},
   "outputs": [],
   "source": [
    "plot_grid_search(results, \"C\", \"log\")"
   ]
  },
  {
   "cell_type": "code",
   "execution_count": null,
   "metadata": {},
   "outputs": [],
   "source": [
    "evaluate_model(model, results[\"best_params\"], x_train_all, y_train_all, x_test, y_test)"
   ]
  },
  {
   "cell_type": "markdown",
   "metadata": {},
   "source": [
    "#### 3.3 Polynomial SVM"
   ]
  },
  {
   "cell_type": "markdown",
   "metadata": {},
   "source": [
    "Ακολουθεί βελτιστοποίηση του SVM classifier με polynomial kernel ως προς τις παραμέτρους C και degree. Το degree είναι ο βαθμός του πολυωνύμου."
   ]
  },
  {
   "cell_type": "markdown",
   "metadata": {},
   "source": [
    "Kernel: $ K(\\mathbf{x}, \\mathbf{x}') = (\\gamma\\langle\\mathbf{x},\\mathbf{x}'\\rangle+r)^d $"
   ]
  },
  {
   "cell_type": "code",
   "execution_count": null,
   "metadata": {},
   "outputs": [],
   "source": [
    "param_dict = {\n",
    "    'C': (0.001, 0.01, 0.1, 1., 10., 100., 1000.),\n",
    "    'degree': (2, 3, 4, 5)\n",
    "}\n",
    "\n",
    "model = svm.SVC(kernel='poly')\n",
    "results = grid_search(model, param_dict, x_train, y_train, x_val, y_val, verbose=1)"
   ]
  },
  {
   "cell_type": "code",
   "execution_count": null,
   "metadata": {},
   "outputs": [],
   "source": [
    "plot_grid_search(results, \"C\", \"log\", \"degree\")"
   ]
  },
  {
   "cell_type": "code",
   "execution_count": null,
   "metadata": {},
   "outputs": [],
   "source": [
    "evaluate_model(model, results[\"best_params\"], x_train_all, y_train_all, x_test, y_test)"
   ]
  },
  {
   "cell_type": "markdown",
   "metadata": {},
   "source": [
    "#### 3.4 RBF SVM"
   ]
  },
  {
   "cell_type": "markdown",
   "metadata": {},
   "source": [
    "Ακολουθεί βελτιστοποίηση του SVM classifier με rbf kernel ως προς τις παραμέτρους C και gamma. Το gamma δείχνει πόσο μακριά φτάνει η επιρροή ενός παραδείγματος."
   ]
  },
  {
   "cell_type": "markdown",
   "metadata": {},
   "source": [
    "Kernel: $ K(\\mathbf{x}, \\mathbf{x}') = e^{-\\gamma||\\mathbf{x}-\\mathbf{x}'||^2} $"
   ]
  },
  {
   "cell_type": "code",
   "execution_count": null,
   "metadata": {
    "scrolled": true
   },
   "outputs": [],
   "source": [
    "param_dict = {\n",
    "    'C': (0.001, 0.01, 0.1, 1., 10., 100.),\n",
    "    'gamma': (0.01, 0.1, 1.)\n",
    "}\n",
    "\n",
    "model = svm.SVC(kernel='rbf')\n",
    "results = grid_search(model, param_dict, x_train, y_train, x_val, y_val, verbose=1)"
   ]
  },
  {
   "cell_type": "code",
   "execution_count": null,
   "metadata": {
    "scrolled": true
   },
   "outputs": [],
   "source": [
    "plot_grid_search(results, \"C\", \"log\", \"gamma\")"
   ]
  },
  {
   "cell_type": "code",
   "execution_count": null,
   "metadata": {
    "scrolled": true
   },
   "outputs": [],
   "source": [
    "evaluate_model(model, results[\"best_params\"], x_train_all, y_train_all, x_test, y_test)"
   ]
  },
  {
   "cell_type": "markdown",
   "metadata": {},
   "source": [
    "#### 3.5 Sigmoid SVM"
   ]
  },
  {
   "cell_type": "code",
   "execution_count": null,
   "metadata": {},
   "outputs": [],
   "source": [
    "param_dict = {\n",
    "    'C': (0.001, 0.01, 0.1, 1., 10., 100.),\n",
    "    'gamma': (0.001, 0.01, 0.1, 1.)\n",
    "}\n",
    "\n",
    "model = svm.SVC(kernel='sigmoid')\n",
    "results = grid_search(model, param_dict, x_train, y_train, x_val, y_val, verbose=2)"
   ]
  },
  {
   "cell_type": "code",
   "execution_count": null,
   "metadata": {},
   "outputs": [],
   "source": [
    "plot_grid_search(results, \"C\", \"log\", \"gamma\")"
   ]
  },
  {
   "cell_type": "code",
   "execution_count": null,
   "metadata": {},
   "outputs": [],
   "source": [
    "evaluate_model(model, results[\"best_params\"], x_train_all, y_train_all, x_test, y_test)"
   ]
  },
  {
   "cell_type": "markdown",
   "metadata": {},
   "source": [
    "#### 3.6 Nearest Neighbor"
   ]
  },
  {
   "cell_type": "code",
   "execution_count": null,
   "metadata": {},
   "outputs": [],
   "source": [
    "from sklearn import neighbors\n",
    "\n",
    "param_dict = {\n",
    "    'n_neighbors': range(1, 50, 2),\n",
    "    'p': (1, 2, 3)\n",
    "}\n",
    "\n",
    "model = neighbors.KNeighborsClassifier()\n",
    "results = grid_search(model, param_dict, x_train, y_train, x_val, y_val, verbose=2)"
   ]
  },
  {
   "cell_type": "code",
   "execution_count": null,
   "metadata": {},
   "outputs": [],
   "source": [
    "plot_grid_search(results, \"n_neighbors\", \"p\", \"linear\")"
   ]
  },
  {
   "cell_type": "code",
   "execution_count": null,
   "metadata": {},
   "outputs": [],
   "source": [
    "evaluate_model(model, results[\"best_params\"], x_train_all, y_train_all, x_test, y_test)"
   ]
  },
  {
   "cell_type": "markdown",
   "metadata": {},
   "source": [
    "#### 3.7 Nearest Class Centroid"
   ]
  },
  {
   "cell_type": "code",
   "execution_count": null,
   "metadata": {},
   "outputs": [],
   "source": [
    "param_dict = {\n",
    "    'shrink_threshold': np.arange(0, 0.1, 1.1)\n",
    "}\n",
    "\n",
    "model = neighbors.NearestCentroid()\n",
    "results = grid_search(model, param_dict, x_train, y_train, x_val, y_val, verbose=2)"
   ]
  },
  {
   "cell_type": "code",
   "execution_count": null,
   "metadata": {},
   "outputs": [],
   "source": [
    "plot_grid_search(results, \"shrink_threshold\")"
   ]
  },
  {
   "cell_type": "code",
   "execution_count": null,
   "metadata": {},
   "outputs": [],
   "source": [
    "evaluate_model(model, results[\"best_params\"], x_train_all, y_train_all, x_test, y_test)"
   ]
  },
  {
   "cell_type": "markdown",
   "metadata": {},
   "source": [
    "#### 3.8 Σύνοψη αποτελεσμάτων"
   ]
  },
  {
   "cell_type": "code",
   "execution_count": null,
   "metadata": {},
   "outputs": [],
   "source": []
  }
 ],
 "metadata": {
  "kernelspec": {
   "display_name": "Python 3",
   "language": "python",
   "name": "python3"
  },
  "language_info": {
   "codemirror_mode": {
    "name": "ipython",
    "version": 3
   },
   "file_extension": ".py",
   "mimetype": "text/x-python",
   "name": "python",
   "nbconvert_exporter": "python",
   "pygments_lexer": "ipython3",
   "version": "3.7.9"
  }
 },
 "nbformat": 4,
 "nbformat_minor": 4
}
