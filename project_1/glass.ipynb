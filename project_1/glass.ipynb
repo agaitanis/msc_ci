{
 "cells": [
  {
   "cell_type": "markdown",
   "metadata": {},
   "source": [
    "# Εργασία 1"
   ]
  },
  {
   "cell_type": "markdown",
   "metadata": {},
   "source": [
    "## B. Αναγνώριση τύπων γυαλιού με βάση τη χημική τους σύσταση"
   ]
  },
  {
   "cell_type": "markdown",
   "metadata": {},
   "source": [
    "Παρακάτω βλέπουμε τις εκδόσεις των βιβλιοθηκών που χρησιμοποιήθηκαν στην εργασία"
   ]
  },
  {
   "cell_type": "code",
   "execution_count": 1,
   "metadata": {},
   "outputs": [
    {
     "name": "stdout",
     "output_type": "stream",
     "text": [
      "Python version: 3.7.9 (default, Aug 31 2020, 17:10:11) [MSC v.1916 64 bit (AMD64)]\n",
      "scikit-learn version: 0.23.2\n",
      "pandas version: 1.1.3\n",
      "numpy version: 1.19.2\n"
     ]
    }
   ],
   "source": [
    "import pandas as pd\n",
    "import numpy as np\n",
    "import sklearn\n",
    "import sys\n",
    "\n",
    "np.random.seed(0)\n",
    "\n",
    "print(\"Python version:\", sys.version)\n",
    "print('scikit-learn version:', sklearn.__version__)\n",
    "print('pandas version:', pd.__version__)\n",
    "print('numpy version:', np.__version__)"
   ]
  },
  {
   "cell_type": "markdown",
   "metadata": {},
   "source": [
    "### 1. Προετοιμασία των δεδομένων"
   ]
  },
  {
   "cell_type": "markdown",
   "metadata": {},
   "source": [
    "Σκοπός της εργασίας είναι η αξιολόγηση μοντέλων τα οποία κατηγοριοποιούν μετρήσεις διαφόρων χημικών στοιχείων σε 6 τύπους γυαλιού. Τα δεδομένα αυτά είχαν συγκεντρωθεί με σκοπό να μπορεί να αναγνωριστεί ο τύπος του γυαλιού όταν αυτό συλλέγεται από τόπους εγκλήματος έτσι ωστέ να μπορεί να χρησιμοποιηθεί ως αποδεικτικό στοιχείο.\n"
   ]
  },
  {
   "cell_type": "markdown",
   "metadata": {},
   "source": [
    "Παρακάτω βλέπουμε τις εκδόσεις των βιβλιοθηκών που χρησιμοποιήθηκαν στην εργασία."
   ]
  },
  {
   "cell_type": "code",
   "execution_count": 2,
   "metadata": {},
   "outputs": [
    {
     "name": "stdout",
     "output_type": "stream",
     "text": [
      "Python version: 3.7.9 (default, Aug 31 2020, 17:10:11) [MSC v.1916 64 bit (AMD64)]\n",
      "scikit-learn version: 0.23.2\n",
      "pandas version: 1.1.3\n",
      "numpy version: 1.19.2\n",
      "matplotlib version: 3.3.2\n"
     ]
    }
   ],
   "source": [
    "import matplotlib\n",
    "import pandas as pd\n",
    "import numpy as np\n",
    "import sklearn\n",
    "import sys\n",
    "\n",
    "np.random.seed(0)\n",
    "\n",
    "print(\"Python version:\", sys.version)\n",
    "print('scikit-learn version:', sklearn.__version__)\n",
    "print('pandas version:', pd.__version__)\n",
    "print('numpy version:', np.__version__)\n",
    "print('matplotlib version:', matplotlib.__version__)"
   ]
  },
  {
   "cell_type": "markdown",
   "metadata": {},
   "source": [
    "Τα δεδομένα βρίσκονται στο αρχείο glass.data τα οποία διαβάζονται και αποθηκεύονται σε ένα pandas dataframe."
   ]
  },
  {
   "cell_type": "code",
   "execution_count": 3,
   "metadata": {
    "scrolled": true
   },
   "outputs": [],
   "source": [
    "import numpy as np\n",
    "import urllib.request\n",
    "import os\n",
    "\n",
    "np.random.seed(0)\n",
    "\n",
    "url = 'https://archive.ics.uci.edu/ml/machine-learning-databases/glass/glass.data'\n",
    "filename = 'glass.data'\n",
    "\n",
    "if not os.path.exists(filename):\n",
    "    print('Downloading file...')\n",
    "    urllib.request.urlretrieve(url, filename)\n",
    "    print('Done.')\n",
    "\n",
    "names = (\"Id\", \"RI\", \"Na\", \"Mg\", \"Al\", \"Si\", \"K\", \"Ca\", \"Ba\", \"Fe\", \"Type\")\n",
    "df = pd.read_csv(filename, names=names)"
   ]
  },
  {
   "cell_type": "markdown",
   "metadata": {},
   "source": [
    "Παρακάτω βλέπουμε τα 5 πρώτα παραδείγματα."
   ]
  },
  {
   "cell_type": "code",
   "execution_count": 4,
   "metadata": {},
   "outputs": [
    {
     "data": {
      "text/html": [
       "<div>\n",
       "<style scoped>\n",
       "    .dataframe tbody tr th:only-of-type {\n",
       "        vertical-align: middle;\n",
       "    }\n",
       "\n",
       "    .dataframe tbody tr th {\n",
       "        vertical-align: top;\n",
       "    }\n",
       "\n",
       "    .dataframe thead th {\n",
       "        text-align: right;\n",
       "    }\n",
       "</style>\n",
       "<table border=\"1\" class=\"dataframe\">\n",
       "  <thead>\n",
       "    <tr style=\"text-align: right;\">\n",
       "      <th></th>\n",
       "      <th>Id</th>\n",
       "      <th>RI</th>\n",
       "      <th>Na</th>\n",
       "      <th>Mg</th>\n",
       "      <th>Al</th>\n",
       "      <th>Si</th>\n",
       "      <th>K</th>\n",
       "      <th>Ca</th>\n",
       "      <th>Ba</th>\n",
       "      <th>Fe</th>\n",
       "      <th>Type</th>\n",
       "    </tr>\n",
       "  </thead>\n",
       "  <tbody>\n",
       "    <tr>\n",
       "      <th>0</th>\n",
       "      <td>1</td>\n",
       "      <td>1.52101</td>\n",
       "      <td>13.64</td>\n",
       "      <td>4.49</td>\n",
       "      <td>1.10</td>\n",
       "      <td>71.78</td>\n",
       "      <td>0.06</td>\n",
       "      <td>8.75</td>\n",
       "      <td>0.0</td>\n",
       "      <td>0.0</td>\n",
       "      <td>1</td>\n",
       "    </tr>\n",
       "    <tr>\n",
       "      <th>1</th>\n",
       "      <td>2</td>\n",
       "      <td>1.51761</td>\n",
       "      <td>13.89</td>\n",
       "      <td>3.60</td>\n",
       "      <td>1.36</td>\n",
       "      <td>72.73</td>\n",
       "      <td>0.48</td>\n",
       "      <td>7.83</td>\n",
       "      <td>0.0</td>\n",
       "      <td>0.0</td>\n",
       "      <td>1</td>\n",
       "    </tr>\n",
       "    <tr>\n",
       "      <th>2</th>\n",
       "      <td>3</td>\n",
       "      <td>1.51618</td>\n",
       "      <td>13.53</td>\n",
       "      <td>3.55</td>\n",
       "      <td>1.54</td>\n",
       "      <td>72.99</td>\n",
       "      <td>0.39</td>\n",
       "      <td>7.78</td>\n",
       "      <td>0.0</td>\n",
       "      <td>0.0</td>\n",
       "      <td>1</td>\n",
       "    </tr>\n",
       "    <tr>\n",
       "      <th>3</th>\n",
       "      <td>4</td>\n",
       "      <td>1.51766</td>\n",
       "      <td>13.21</td>\n",
       "      <td>3.69</td>\n",
       "      <td>1.29</td>\n",
       "      <td>72.61</td>\n",
       "      <td>0.57</td>\n",
       "      <td>8.22</td>\n",
       "      <td>0.0</td>\n",
       "      <td>0.0</td>\n",
       "      <td>1</td>\n",
       "    </tr>\n",
       "    <tr>\n",
       "      <th>4</th>\n",
       "      <td>5</td>\n",
       "      <td>1.51742</td>\n",
       "      <td>13.27</td>\n",
       "      <td>3.62</td>\n",
       "      <td>1.24</td>\n",
       "      <td>73.08</td>\n",
       "      <td>0.55</td>\n",
       "      <td>8.07</td>\n",
       "      <td>0.0</td>\n",
       "      <td>0.0</td>\n",
       "      <td>1</td>\n",
       "    </tr>\n",
       "  </tbody>\n",
       "</table>\n",
       "</div>"
      ],
      "text/plain": [
       "   Id       RI     Na    Mg    Al     Si     K    Ca   Ba   Fe  Type\n",
       "0   1  1.52101  13.64  4.49  1.10  71.78  0.06  8.75  0.0  0.0     1\n",
       "1   2  1.51761  13.89  3.60  1.36  72.73  0.48  7.83  0.0  0.0     1\n",
       "2   3  1.51618  13.53  3.55  1.54  72.99  0.39  7.78  0.0  0.0     1\n",
       "3   4  1.51766  13.21  3.69  1.29  72.61  0.57  8.22  0.0  0.0     1\n",
       "4   5  1.51742  13.27  3.62  1.24  73.08  0.55  8.07  0.0  0.0     1"
      ]
     },
     "execution_count": 4,
     "metadata": {},
     "output_type": "execute_result"
    }
   ],
   "source": [
    "df.head()"
   ]
  },
  {
   "cell_type": "markdown",
   "metadata": {},
   "source": [
    "Ακολουθεί περιγραφή των διαφόρων χαρακτηριστικών."
   ]
  },
  {
   "cell_type": "code",
   "execution_count": 5,
   "metadata": {},
   "outputs": [
    {
     "data": {
      "text/html": [
       "<style>\n",
       "table {float:left}\n",
       "</style>\n"
      ],
      "text/plain": [
       "<IPython.core.display.HTML object>"
      ]
     },
     "metadata": {},
     "output_type": "display_data"
    }
   ],
   "source": [
    "%%html\n",
    "<style>\n",
    "table {float:left}\n",
    "</style>"
   ]
  },
  {
   "cell_type": "markdown",
   "metadata": {},
   "source": [
    "|Id|Attribute|Description|\n",
    "|:-|:-|:-|\n",
    "|1|Id| Id number: 1 to 214|\n",
    "|2|RI|refractive index\n",
    "|3|Na|Sodium (unit measurement: weight percent in corresponding oxide, as are attributes 4-10)\n",
    "|4|Mg|Magnesium\n",
    "|5|Al|Aluminum\n",
    "|6|Si|Silicon\n",
    "|7|K|Potassium\n",
    "|8|Ca|Calcium\n",
    "|9|Ba|Barium\n",
    "|10|Fe|Iron\n",
    "|11|Type|Type of glass: (class attribute)"
   ]
  },
  {
   "cell_type": "markdown",
   "metadata": {},
   "source": [
    "Ακολουθεί περιγραφή των κλάσεων. Η 4η κλάση δεν χρησιμοποιείται."
   ]
  },
  {
   "cell_type": "markdown",
   "metadata": {},
   "source": [
    "|Class|Description|\n",
    "|:-|:-|\n",
    "|1|building_windows_float_processed\n",
    "|2|building_windows_non_float_processed\n",
    "|3|vehicle_windows_float_processed\n",
    "|4|vehicle_windows_non_float_processed (none in this database)\n",
    "|5|containers\n",
    "|6|tableware\n",
    "|7|headlamps"
   ]
  },
  {
   "cell_type": "markdown",
   "metadata": {},
   "source": [
    "Όλα τα χαρακτηριστικά είναι πραγματικοί αριθμοί εκτός από το Id και τη μεταβλητή στόχο Type οι οποίοι είναι ακέραιοι. Παρατηρούμε ότι δεν υπάρχουν τιμές που λείπουν."
   ]
  },
  {
   "cell_type": "code",
   "execution_count": 6,
   "metadata": {},
   "outputs": [
    {
     "name": "stdout",
     "output_type": "stream",
     "text": [
      "<class 'pandas.core.frame.DataFrame'>\n",
      "RangeIndex: 214 entries, 0 to 213\n",
      "Data columns (total 11 columns):\n",
      " #   Column  Non-Null Count  Dtype  \n",
      "---  ------  --------------  -----  \n",
      " 0   Id      214 non-null    int64  \n",
      " 1   RI      214 non-null    float64\n",
      " 2   Na      214 non-null    float64\n",
      " 3   Mg      214 non-null    float64\n",
      " 4   Al      214 non-null    float64\n",
      " 5   Si      214 non-null    float64\n",
      " 6   K       214 non-null    float64\n",
      " 7   Ca      214 non-null    float64\n",
      " 8   Ba      214 non-null    float64\n",
      " 9   Fe      214 non-null    float64\n",
      " 10  Type    214 non-null    int64  \n",
      "dtypes: float64(9), int64(2)\n",
      "memory usage: 18.5 KB\n"
     ]
    }
   ],
   "source": [
    "df.info()"
   ]
  },
  {
   "cell_type": "markdown",
   "metadata": {},
   "source": [
    "Βγάζουμε εκτός του dataframe το Id γιατί είναι απλώς ένας αύξων αριθμός και δεν προσφέρει κάποια χρήσιμη πληροφορία για την κατηγοριοποίηση"
   ]
  },
  {
   "cell_type": "code",
   "execution_count": 7,
   "metadata": {},
   "outputs": [],
   "source": [
    "df.drop(labels='Id', axis=1, inplace=True)"
   ]
  },
  {
   "cell_type": "markdown",
   "metadata": {},
   "source": [
    "Το παρακάτω ιστόγραμμα μας δείχνει ότι οι κλάσεις των ψηφίων δεν είναι ζυγισμένες. "
   ]
  },
  {
   "cell_type": "code",
   "execution_count": 8,
   "metadata": {
    "scrolled": true
   },
   "outputs": [
    {
     "data": {
      "image/png": "[encoded data removed]",
      "text/plain": [
       "<Figure size 432x288 with 1 Axes>"
      ]
     },
     "metadata": {
      "needs_background": "light"
     },
     "output_type": "display_data"
    }
   ],
   "source": [
    "import matplotlib.pyplot as plt\n",
    "\n",
    "df.hist(column='Type')\n",
    "plt.show()"
   ]
  },
  {
   "cell_type": "markdown",
   "metadata": {},
   "source": [
    "To dataset χωρίζεται σε train set και test set χρησιμοποιώντας την συνάρτηση StratifiedShuffleSplit η οποία μας εξασφαλίζει οτι η κατανομή στα δυο set θα είναι ίδια ως προς τη μεταβλητή στόχο."
   ]
  },
  {
   "cell_type": "code",
   "execution_count": 12,
   "metadata": {},
   "outputs": [
    {
     "data": {
      "image/png": "[encoded data removed]",
      "text/plain": [
       "<Figure size 432x288 with 1 Axes>"
      ]
     },
     "metadata": {
      "needs_background": "light"
     },
     "output_type": "display_data"
    }
   ],
   "source": [
    "from sklearn import model_selection\n",
    "\n",
    "split = model_selection.StratifiedShuffleSplit(n_splits=1, test_size=0.4, random_state=0)\n",
    "\n",
    "for train_index, test_index in split.split(df, df['Type']):\n",
    "    df_train = df.loc[train_index]\n",
    "    df_test = df.loc[test_index]\n",
    "\n",
    "df_train_x = df_train.drop('Type', axis=1)\n",
    "df_train_y = df_train['Type']\n",
    "df_test_x = df_test.drop('Type', axis=1)\n",
    "df_test_y = df_test['Type']\n",
    "    \n",
    "df_train_y.hist()\n",
    "df_test_y.hist()\n",
    "plt.show()"
   ]
  },
  {
   "cell_type": "markdown",
   "metadata": {},
   "source": [
    "Παρακάτω βλέπουμε κάποια στατιστικά δεδομένα για τις ανέξαρτητες μεταβλητές και την εξαρτημένη μεταβλητή Type."
   ]
  },
  {
   "cell_type": "code",
   "execution_count": 13,
   "metadata": {
    "scrolled": false
   },
   "outputs": [
    {
     "data": {
      "text/html": [
       "<div>\n",
       "<style scoped>\n",
       "    .dataframe tbody tr th:only-of-type {\n",
       "        vertical-align: middle;\n",
       "    }\n",
       "\n",
       "    .dataframe tbody tr th {\n",
       "        vertical-align: top;\n",
       "    }\n",
       "\n",
       "    .dataframe thead th {\n",
       "        text-align: right;\n",
       "    }\n",
       "</style>\n",
       "<table border=\"1\" class=\"dataframe\">\n",
       "  <thead>\n",
       "    <tr style=\"text-align: right;\">\n",
       "      <th></th>\n",
       "      <th>RI</th>\n",
       "      <th>Na</th>\n",
       "      <th>Mg</th>\n",
       "      <th>Al</th>\n",
       "      <th>Si</th>\n",
       "      <th>K</th>\n",
       "      <th>Ca</th>\n",
       "      <th>Ba</th>\n",
       "      <th>Fe</th>\n",
       "      <th>Type</th>\n",
       "    </tr>\n",
       "  </thead>\n",
       "  <tbody>\n",
       "    <tr>\n",
       "      <th>count</th>\n",
       "      <td>128.000000</td>\n",
       "      <td>128.000000</td>\n",
       "      <td>128.00000</td>\n",
       "      <td>128.000000</td>\n",
       "      <td>128.000000</td>\n",
       "      <td>128.000000</td>\n",
       "      <td>128.000000</td>\n",
       "      <td>128.000000</td>\n",
       "      <td>128.000000</td>\n",
       "      <td>128.000000</td>\n",
       "    </tr>\n",
       "    <tr>\n",
       "      <th>mean</th>\n",
       "      <td>1.518346</td>\n",
       "      <td>13.347344</td>\n",
       "      <td>2.63375</td>\n",
       "      <td>1.434531</td>\n",
       "      <td>72.693672</td>\n",
       "      <td>0.532500</td>\n",
       "      <td>9.016641</td>\n",
       "      <td>0.159531</td>\n",
       "      <td>0.057656</td>\n",
       "      <td>2.757812</td>\n",
       "    </tr>\n",
       "    <tr>\n",
       "      <th>std</th>\n",
       "      <td>0.003189</td>\n",
       "      <td>0.792129</td>\n",
       "      <td>1.46517</td>\n",
       "      <td>0.494346</td>\n",
       "      <td>0.832269</td>\n",
       "      <td>0.791642</td>\n",
       "      <td>1.401949</td>\n",
       "      <td>0.503831</td>\n",
       "      <td>0.096330</td>\n",
       "      <td>2.091400</td>\n",
       "    </tr>\n",
       "    <tr>\n",
       "      <th>min</th>\n",
       "      <td>1.511150</td>\n",
       "      <td>10.730000</td>\n",
       "      <td>0.00000</td>\n",
       "      <td>0.340000</td>\n",
       "      <td>69.810000</td>\n",
       "      <td>0.000000</td>\n",
       "      <td>6.470000</td>\n",
       "      <td>0.000000</td>\n",
       "      <td>0.000000</td>\n",
       "      <td>1.000000</td>\n",
       "    </tr>\n",
       "    <tr>\n",
       "      <th>25%</th>\n",
       "      <td>1.516525</td>\n",
       "      <td>12.885000</td>\n",
       "      <td>1.83250</td>\n",
       "      <td>1.190000</td>\n",
       "      <td>72.330000</td>\n",
       "      <td>0.137500</td>\n",
       "      <td>8.317500</td>\n",
       "      <td>0.000000</td>\n",
       "      <td>0.000000</td>\n",
       "      <td>1.000000</td>\n",
       "    </tr>\n",
       "    <tr>\n",
       "      <th>50%</th>\n",
       "      <td>1.517720</td>\n",
       "      <td>13.210000</td>\n",
       "      <td>3.45500</td>\n",
       "      <td>1.335000</td>\n",
       "      <td>72.845000</td>\n",
       "      <td>0.560000</td>\n",
       "      <td>8.605000</td>\n",
       "      <td>0.000000</td>\n",
       "      <td>0.000000</td>\n",
       "      <td>2.000000</td>\n",
       "    </tr>\n",
       "    <tr>\n",
       "      <th>75%</th>\n",
       "      <td>1.518985</td>\n",
       "      <td>13.702500</td>\n",
       "      <td>3.58250</td>\n",
       "      <td>1.620000</td>\n",
       "      <td>73.102500</td>\n",
       "      <td>0.600000</td>\n",
       "      <td>9.200000</td>\n",
       "      <td>0.000000</td>\n",
       "      <td>0.102500</td>\n",
       "      <td>3.000000</td>\n",
       "    </tr>\n",
       "    <tr>\n",
       "      <th>max</th>\n",
       "      <td>1.533930</td>\n",
       "      <td>17.380000</td>\n",
       "      <td>4.49000</td>\n",
       "      <td>3.040000</td>\n",
       "      <td>75.410000</td>\n",
       "      <td>6.210000</td>\n",
       "      <td>16.190000</td>\n",
       "      <td>3.150000</td>\n",
       "      <td>0.510000</td>\n",
       "      <td>7.000000</td>\n",
       "    </tr>\n",
       "  </tbody>\n",
       "</table>\n",
       "</div>"
      ],
      "text/plain": [
       "               RI          Na         Mg          Al          Si           K  \\\n",
       "count  128.000000  128.000000  128.00000  128.000000  128.000000  128.000000   \n",
       "mean     1.518346   13.347344    2.63375    1.434531   72.693672    0.532500   \n",
       "std      0.003189    0.792129    1.46517    0.494346    0.832269    0.791642   \n",
       "min      1.511150   10.730000    0.00000    0.340000   69.810000    0.000000   \n",
       "25%      1.516525   12.885000    1.83250    1.190000   72.330000    0.137500   \n",
       "50%      1.517720   13.210000    3.45500    1.335000   72.845000    0.560000   \n",
       "75%      1.518985   13.702500    3.58250    1.620000   73.102500    0.600000   \n",
       "max      1.533930   17.380000    4.49000    3.040000   75.410000    6.210000   \n",
       "\n",
       "               Ca          Ba          Fe        Type  \n",
       "count  128.000000  128.000000  128.000000  128.000000  \n",
       "mean     9.016641    0.159531    0.057656    2.757812  \n",
       "std      1.401949    0.503831    0.096330    2.091400  \n",
       "min      6.470000    0.000000    0.000000    1.000000  \n",
       "25%      8.317500    0.000000    0.000000    1.000000  \n",
       "50%      8.605000    0.000000    0.000000    2.000000  \n",
       "75%      9.200000    0.000000    0.102500    3.000000  \n",
       "max     16.190000    3.150000    0.510000    7.000000  "
      ]
     },
     "execution_count": 13,
     "metadata": {},
     "output_type": "execute_result"
    }
   ],
   "source": [
    "df_train.describe()"
   ]
  },
  {
   "cell_type": "markdown",
   "metadata": {},
   "source": [
    "Ακολουθούν ιστογράμματα των χαρακτηριστικών."
   ]
  },
  {
   "cell_type": "code",
   "execution_count": 15,
   "metadata": {},
   "outputs": [
    {
     "data": {
      "text/plain": [
       "[]"
      ]
     },
     "execution_count": 15,
     "metadata": {},
     "output_type": "execute_result"
    },
    {
     "data": {
      "image/png": "[encoded data removed]",
      "text/plain": [
       "<Figure size 864x864 with 9 Axes>"
      ]
     },
     "metadata": {
      "needs_background": "light"
     },
     "output_type": "display_data"
    }
   ],
   "source": [
    "df_train_x.hist(figsize=(12, 12))\n",
    "plt.plot()"
   ]
  },
  {
   "cell_type": "markdown",
   "metadata": {},
   "source": [
    "Μεγαλύτερη γραμμική συσχέτιση με το Type έχουν τα χαρακτηριστικά Mg, Al, Ba, Na."
   ]
  },
  {
   "cell_type": "code",
   "execution_count": 16,
   "metadata": {
    "scrolled": true
   },
   "outputs": [
    {
     "data": {
      "text/plain": [
       "Type    1.000000\n",
       "Mg      0.746668\n",
       "Al      0.571282\n",
       "Na      0.530988\n",
       "Ba      0.506686\n",
       "Fe      0.214283\n",
       "RI      0.171949\n",
       "Si      0.163369\n",
       "K       0.044884\n",
       "Ca      0.000844\n",
       "Name: Type, dtype: float64"
      ]
     },
     "execution_count": 16,
     "metadata": {},
     "output_type": "execute_result"
    }
   ],
   "source": [
    "corr_matrix = df_train.corr()\n",
    "abs(corr_matrix[\"Type\"]).sort_values(ascending=False)"
   ]
  },
  {
   "cell_type": "markdown",
   "metadata": {},
   "source": [
    "Οι κλάσεις δεν φαίνονται διαχωρίσιμες στο επίπεδο των δυο χαρακτηριστικών που έχουν τη μεγαλύτερη συσχέτιση με το Type."
   ]
  },
  {
   "cell_type": "code",
   "execution_count": 17,
   "metadata": {},
   "outputs": [
    {
     "data": {
      "image/png": "[encoded data removed]",
      "text/plain": [
       "<Figure size 432x288 with 2 Axes>"
      ]
     },
     "metadata": {
      "needs_background": "light"
     },
     "output_type": "display_data"
    }
   ],
   "source": [
    "df_train.plot.scatter(x='Mg', y='Al', c='Type', colormap='Set1')\n",
    "plt.show()"
   ]
  },
  {
   "cell_type": "code",
   "execution_count": 18,
   "metadata": {},
   "outputs": [
    {
     "name": "stdout",
     "output_type": "stream",
     "text": [
      "x_train.shape = (128, 9)\n",
      "y_train.shape = (128,)\n",
      "x_test.shape = (86, 9)\n",
      "y_test.shape = (86,)\n"
     ]
    }
   ],
   "source": [
    "x_train = df_train_x.to_numpy()\n",
    "y_train = df_train_y.to_numpy()\n",
    "x_test = df_test_x.to_numpy()\n",
    "y_test = df_test_y.to_numpy()\n",
    "\n",
    "print('x_train.shape =', x_train.shape)\n",
    "print('y_train.shape =', y_train.shape)\n",
    "print('x_test.shape =', x_test.shape)\n",
    "print('y_test.shape =', y_test.shape)"
   ]
  },
  {
   "cell_type": "markdown",
   "metadata": {},
   "source": [
    "### 2. Μείωση διαστάσεων"
   ]
  },
  {
   "cell_type": "markdown",
   "metadata": {},
   "source": [
    "Εφαρμόζεται κανονικοποίηση και μείωση των διαστάσεων με την τεχνική PCA διατηρώντας το 90% της διασποράς. Η διάσταση των δεδομένων μειώνεται από 9 σε 6. "
   ]
  },
  {
   "cell_type": "code",
   "execution_count": 22,
   "metadata": {},
   "outputs": [
    {
     "name": "stdout",
     "output_type": "stream",
     "text": [
      "[-2.26546382 -3.31717155 -1.80463562 -2.22280045 -3.47844447 -0.67529527\n",
      " -1.82363735 -0.31788073 -0.60087918]\n",
      "[4.90571354 5.11091162 1.27189554 3.26042464 3.27658519 7.19997914\n",
      " 5.13680883 5.95878482 4.71421474]\n",
      "x_train.shape (128, 9)\n",
      "x_train_reduced.shape = (128, 6)\n"
     ]
    }
   ],
   "source": [
    "from sklearn import decomposition\n",
    "from sklearn import preprocessing\n",
    "\n",
    "scaler = preprocessing.StandardScaler()\n",
    "x_train_scaled = scaler.fit_transform(x_train)\n",
    "\n",
    "print(np.min(x_train_scaled, axis=0))\n",
    "print(np.max(x_train_scaled, axis=0))\n",
    "\n",
    "pca = decomposition.PCA(n_components=0.9, svd_solver='full')\n",
    "x_train_reduced = pca.fit_transform(x_train_scaled)\n",
    "\n",
    "print('x_train.shape', x_train.shape)\n",
    "print('x_train_reduced.shape =', x_train_reduced.shape)"
   ]
  },
  {
   "cell_type": "markdown",
   "metadata": {},
   "source": [
    "Η προηγούμενη διαδικάσια γίνεται μόνο για την απεικόνιση των παραδειγμάτων στο επίπεδο των δυο πρώτων ιδιοδιανυσμάτων. Αργότερα εφαρμόζεται κανονικά μέσω pipeline."
   ]
  },
  {
   "cell_type": "code",
   "execution_count": 23,
   "metadata": {},
   "outputs": [
    {
     "data": {
      "image/png": "[encoded data removed]",
      "text/plain": [
       "<Figure size 432x288 with 2 Axes>"
      ]
     },
     "metadata": {
      "needs_background": "light"
     },
     "output_type": "display_data"
    }
   ],
   "source": [
    "plt.scatter(x_train_reduced[:, 0], x_train_reduced[:, 1], c=y_train, cmap='Set1', alpha=0.6)\n",
    "plt.xlabel('1st eigenvector')\n",
    "plt.ylabel('2nd eigenvector')\n",
    "plt.colorbar()\n",
    "plt.show()"
   ]
  },
  {
   "cell_type": "markdown",
   "metadata": {},
   "source": [
    "### 3. Αξιολόγηση μοντέλων"
   ]
  },
  {
   "cell_type": "markdown",
   "metadata": {},
   "source": [
    "#### 3.1 Περιγραφή της διαδικασίας"
   ]
  },
  {
   "cell_type": "markdown",
   "metadata": {},
   "source": [
    "#### 3.2 Linear SVM"
   ]
  },
  {
   "cell_type": "markdown",
   "metadata": {},
   "source": [
    "Ακολουθεί βελτιστοποίηση του SVM classifier με linear kernel ως προς την παράμετρο C. Το C είναι η παράμετρος αντιστάθμισης μεταξύ της προσπάθειας για μέγιστο περιθώριο μεταξύ των κλάσεων και για ελάχιστο αριθμό λαθών."
   ]
  },
  {
   "cell_type": "markdown",
   "metadata": {},
   "source": [
    "$ Loss = \\mathbf{w}^T\\mathbf{w} + C\\sum_{k=1}^R\\varepsilon_{k}\\ $"
   ]
  },
  {
   "cell_type": "markdown",
   "metadata": {},
   "source": [
    "Kernel: $ K(\\mathbf{x}, \\mathbf{x}') = \\langle\\mathbf{x},\\mathbf{x}'\\rangle $"
   ]
  },
  {
   "cell_type": "code",
   "execution_count": 29,
   "metadata": {},
   "outputs": [
    {
     "name": "stdout",
     "output_type": "stream",
     "text": [
      "\n",
      "Best F1 = 0.35938461538461536\n",
      "Best params = {'svm__C': 0.001}\n"
     ]
    }
   ],
   "source": [
    "from sklearn import pipeline\n",
    "from sklearn import svm\n",
    "\n",
    "scaler = preprocessing.StandardScaler()\n",
    "pca = decomposition.PCA(n_components=0.9, svd_solver='full')\n",
    "svm = svm.SVC(kernel='linear')\n",
    "\n",
    "pipe = pipeline.Pipeline([\n",
    "    ('scaler', scaler),\n",
    "    ('pca', pca),\n",
    "    ('svm', svm)\n",
    "    ])\n",
    "\n",
    "param_grid = {\n",
    "    \"svm__C\": (0.001, 0.002, 0.005, 0.01, 0.02, 0.05, 0.1, 0.2, 0.5, 1., 2., 5., 10., 20., 50., 100., 200., 500., 1000.)\n",
    "}\n",
    "\n",
    "search = model_selection.GridSearchCV(pipe, param_grid, n_jobs=-1, scoring='f1_micro')\n",
    "search.fit(x_train, y_train)\n",
    "\n",
    "print()\n",
    "print('Best F1 =', search.best_score_)\n",
    "print('Best params =', search.best_params_)"
   ]
  },
  {
   "cell_type": "code",
   "execution_count": null,
   "metadata": {},
   "outputs": [],
   "source": []
  }
 ],
 "metadata": {
  "kernelspec": {
   "display_name": "Python 3",
   "language": "python",
   "name": "python3"
  },
  "language_info": {
   "codemirror_mode": {
    "name": "ipython",
    "version": 3
   },
   "file_extension": ".py",
   "mimetype": "text/x-python",
   "name": "python",
   "nbconvert_exporter": "python",
   "pygments_lexer": "ipython3",
   "version": "3.7.9"
  }
 },
 "nbformat": 4,
 "nbformat_minor": 4
}
