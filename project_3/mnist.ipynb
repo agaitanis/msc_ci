{
 "cells": [
  {
   "cell_type": "markdown",
   "metadata": {},
   "source": [
    "# Εργασία 3"
   ]
  },
  {
   "cell_type": "markdown",
   "metadata": {},
   "source": [
    "## Α. Ομαδοποίηση χειρόγραφων ψηφίων της MNIST"
   ]
  },
  {
   "cell_type": "markdown",
   "metadata": {},
   "source": [
    "### 1. Preprocessing"
   ]
  },
  {
   "cell_type": "markdown",
   "metadata": {},
   "source": [
    "Τα δεδομένα περιέχονται στο αρχείο mnist_all.mat. Το διάβασμα του αρχείου γίνεται με την συνάρτηση scipy.io.loadmat η οποία επιστρέφει ένα dictionary το οποίο έχει κλειδια τα 'train0', 'train1', 'train2',... και 'test0', 'test1', 'test2',... και data τις εικόνες των αντίστοιχων ψηφίων."
   ]
  },
  {
   "cell_type": "code",
   "execution_count": 1,
   "metadata": {},
   "outputs": [
    {
     "data": {
      "text/plain": [
       "dict_keys(['__header__', '__version__', '__globals__', 'train0', 'test0', 'train1', 'test1', 'train2', 'test2', 'train3', 'test3', 'train4', 'test4', 'train5', 'test5', 'train6', 'test6', 'train7', 'test7', 'train8', 'test8', 'train9', 'test9'])"
      ]
     },
     "execution_count": 1,
     "metadata": {},
     "output_type": "execute_result"
    }
   ],
   "source": [
    "import urllib.request\n",
    "import numpy as np\n",
    "import scipy.io\n",
    "import os\n",
    "\n",
    "np.random.seed(0)\n",
    "\n",
    "url = 'https://cs.nyu.edu/~roweis/data/mnist_all.mat'\n",
    "filename = 'mnist_all.mat'\n",
    "\n",
    "if not os.path.exists(filename):\n",
    "    print('Downloading file...')\n",
    "    urllib.request.urlretrieve(url, filename)\n",
    "    print('Done.')\n",
    "\n",
    "mat = scipy.io.loadmat(filename)\n",
    "mat.keys()"
   ]
  },
  {
   "cell_type": "markdown",
   "metadata": {},
   "source": [
    "Οι εικόνες των ψηφίων έχουν μέγεθος 784 = 28x28."
   ]
  },
  {
   "cell_type": "code",
   "execution_count": 2,
   "metadata": {},
   "outputs": [
    {
     "data": {
      "text/plain": [
       "(784,)"
      ]
     },
     "execution_count": 2,
     "metadata": {},
     "output_type": "execute_result"
    }
   ],
   "source": [
    "digit = mat['train2'][0]\n",
    "digit.shape"
   ]
  },
  {
   "cell_type": "markdown",
   "metadata": {},
   "source": [
    "Παρακάτω φαίνονται οι εικόνες πέντε ψηφίων."
   ]
  },
  {
   "cell_type": "code",
   "execution_count": 3,
   "metadata": {},
   "outputs": [
    {
     "data": {
      "image/png": "[encoded data removed]",
      "text/plain": [
       "<Figure size 720x720 with 5 Axes>"
      ]
     },
     "metadata": {
      "needs_background": "light"
     },
     "output_type": "display_data"
    }
   ],
   "source": [
    "import matplotlib.pyplot as plt\n",
    "%matplotlib inline\n",
    "\n",
    "n = 5\n",
    "fig, axs = plt.subplots(1, n, figsize=(10, 10))\n",
    "plt.subplots_adjust(wspace=0.5)\n",
    "for i in range(n):\n",
    "    digit = mat['train' + str(i)][0]\n",
    "    digit = digit.reshape((28, 28))\n",
    "    axs[i].imshow(digit, cmap=plt.cm.binary)\n",
    "plt.show()"
   ]
  },
  {
   "cell_type": "markdown",
   "metadata": {},
   "source": [
    "Οι είκονες και οι ετικέτες φορτώνονται σε numpy arrays. Το μέγεθος του training set είναι 20000 και του test set 10000. Η κανονικοποίηση στο διάστημα [0, 1] γίνεται με διαίρεση με το 255 το οποίο είναι η μέγιστη τιμή της φωτεινότητας ενός pixel."
   ]
  },
  {
   "cell_type": "code",
   "execution_count": 4,
   "metadata": {},
   "outputs": [
    {
     "name": "stdout",
     "output_type": "stream",
     "text": [
      "x_train.shape = (60000, 784)\n",
      "y_train.shape = (60000,)\n",
      "x_test.shape = (10000, 784)\n",
      "y_test.shape = (10000,)\n"
     ]
    }
   ],
   "source": [
    "x_train, y_train, x_test, y_test = [], [], [], []\n",
    "\n",
    "for key, data in mat.items():\n",
    "    if 'train' in key:\n",
    "        for x in data:\n",
    "            x_train.append(x)\n",
    "            num = int(key[-1])\n",
    "            y_train.append(num)\n",
    "    if 'test' in key:\n",
    "        for x in data:\n",
    "            x_test.append(x)\n",
    "            num = int(key[-1])\n",
    "            y_test.append(num)\n",
    "\n",
    "x_train = np.array(x_train, dtype=np.double)\n",
    "y_train = np.array(y_train, dtype=np.double)\n",
    "x_test = np.array(x_test, dtype=np.double)\n",
    "y_test = np.array(y_test, dtype=np.double)\n",
    "x_test_original = x_test\n",
    "\n",
    "print('x_train.shape =', x_train.shape)\n",
    "print('y_train.shape =', y_train.shape)\n",
    "print('x_test.shape =', x_test.shape)\n",
    "print('y_test.shape =', y_test.shape)"
   ]
  },
  {
   "cell_type": "code",
   "execution_count": 5,
   "metadata": {
    "scrolled": false
   },
   "outputs": [
    {
     "name": "stdout",
     "output_type": "stream",
     "text": [
      "\n",
      "x_train is in [0.0, 1.0]\n",
      "x_test is in [0.0, 1.0]\n"
     ]
    }
   ],
   "source": [
    "x_train /= 255.\n",
    "x_test /= 255.\n",
    "\n",
    "print()\n",
    "print('x_train is in [{}, {}]'.format(np.min(x_train), np.max(x_train)))\n",
    "print('x_test is in [{}, {}]'.format(np.min(x_test), np.max(x_test)))"
   ]
  },
  {
   "cell_type": "markdown",
   "metadata": {},
   "source": [
    "Η εργασία συνεχίζεται στο 1/3 του dataset λόγω μειωμένων δυνατοτήτων του υπολογιστή."
   ]
  },
  {
   "cell_type": "code",
   "execution_count": 6,
   "metadata": {},
   "outputs": [],
   "source": [
    "from sklearn.utils import shuffle\n",
    "\n",
    "x_train, y_train = shuffle(x_train, y_train, random_state=0)\n",
    "\n",
    "x_train = x_train[:10000] # FIXME\n",
    "y_train = y_train[:10000] # FIXME"
   ]
  },
  {
   "cell_type": "markdown",
   "metadata": {},
   "source": [
    "Παρακάτω βλέπουμε το ιστόγραμμα των ψηφίων στο training set."
   ]
  },
  {
   "cell_type": "code",
   "execution_count": 7,
   "metadata": {},
   "outputs": [
    {
     "data": {
      "image/png": "[encoded data removed]",
      "text/plain": [
       "<Figure size 432x288 with 1 Axes>"
      ]
     },
     "metadata": {
      "needs_background": "light"
     },
     "output_type": "display_data"
    }
   ],
   "source": [
    "plt.hist(y_train, label='Training set', rwidth=0.8)\n",
    "plt.title('Histogram')\n",
    "plt.ylabel('Number of digits')\n",
    "plt.xlabel('Digits')\n",
    "plt.legend()\n",
    "plt.show()"
   ]
  },
  {
   "cell_type": "markdown",
   "metadata": {},
   "source": [
    "### 2. Embedding"
   ]
  },
  {
   "cell_type": "markdown",
   "metadata": {},
   "source": [
    "Ακολουθεί εφαρμογή διάφορων embeddings: Spectral, Standard LLE, Modified LLE, Isomap και t-SNE με τα οποία μετασχηματίζονται τα δεδομένα σε χώρο μικρότερης διάστασης."
   ]
  },
  {
   "cell_type": "code",
   "execution_count": null,
   "metadata": {
    "scrolled": false
   },
   "outputs": [],
   "source": [
    "from sklearn.manifold import SpectralEmbedding, LocallyLinearEmbedding, Isomap, TSNE\n",
    "\n",
    "embeddings = [\n",
    "    ('Spectral', SpectralEmbedding(n_components=2, n_neighbors=20, random_state=0, n_jobs=-1)),\n",
    "    ('LLE', LocallyLinearEmbedding(n_components=2, n_neighbors=20, n_jobs=-1)),\n",
    "    ('Isomap', Isomap(n_components=2, n_neighbors=20, n_jobs=-1)),\n",
    "    ('t-SNE', TSNE(n_components=2, random_state=0, n_jobs=-1)),\n",
    "]\n",
    "\n",
    "plt.subplots(2, 2, figsize=(15, 12))\n",
    "plt.subplots_adjust(hspace=0.3)\n",
    "\n",
    "x_train_embedded_dict = {}\n",
    "\n",
    "for i, (embedding_str, embedding) in enumerate(embeddings):\n",
    "    x_train_embedded = embedding.fit_transform(x_train)\n",
    "    x_train_embedded_dict[embedding_str] = x_train_embedded\n",
    "    plt.subplot(2, 2, i+1)\n",
    "    plt.title('{} Embedding'.format(embedding_str))\n",
    "    plt.scatter(x_train_embedded[:, 0], x_train_embedded[:, 1],\n",
    "                c=y_train, cmap='tab10', marker='+', alpha=0.5)\n",
    "    plt.colorbar()\n",
    "    \n",
    "plt.show()"
   ]
  },
  {
   "cell_type": "markdown",
   "metadata": {},
   "source": [
    "Επιλέγουμε να προχωρήσουμε με το t-SNE γιατί μας δίνει αρκετά καλά διαχωρισμένες κλάσεις."
   ]
  },
  {
   "cell_type": "code",
   "execution_count": null,
   "metadata": {},
   "outputs": [],
   "source": [
    "x_train_embedded = x_train_embedded_dict['t-SNE']"
   ]
  },
  {
   "cell_type": "markdown",
   "metadata": {},
   "source": [
    "### 3. Algorithms"
   ]
  },
  {
   "cell_type": "markdown",
   "metadata": {},
   "source": [
    "#### 3.1 MyKMeans"
   ]
  },
  {
   "cell_type": "markdown",
   "metadata": {},
   "source": [
    "#### 3.2 MySpectralClustering"
   ]
  },
  {
   "cell_type": "markdown",
   "metadata": {},
   "source": [
    "### 4. Clustering"
   ]
  },
  {
   "cell_type": "code",
   "execution_count": null,
   "metadata": {},
   "outputs": [],
   "source": [
    "from sklearn.metrics import homogeneity_completeness_v_measure\n",
    "from time import time\n",
    "\n",
    "def do_the_clustering(clustering, X, y):\n",
    "    all_n_clusters = range(2, 11)\n",
    "    experiments_num = len(all_n_clusters)\n",
    "    homogeneity = np.zeros(experiments_num)\n",
    "    completeness = np.zeros(experiments_num)\n",
    "    v_measure = np.zeros(experiments_num)\n",
    "    times = np.zeros(experiments_num)\n",
    "\n",
    "    plt.subplots(3, 3, figsize=(15, 12))\n",
    "    plt.subplots_adjust(wspace=0.3, hspace=0.4)\n",
    "    \n",
    "    for i, n_clusters in enumerate(all_n_clusters):\n",
    "        clustering.set_params(n_clusters=n_clusters)\n",
    "        t1 = time()\n",
    "        y_pred = clustering.fit_predict(X)\n",
    "        t2 = time()\n",
    "        times[i] = t2 - t1\n",
    "        homogeneity[i], completeness[i], v_measure[i] = homogeneity_completeness_v_measure(y, y_pred)\n",
    "        plt.subplot(3, 3, i+1)\n",
    "        plt.title('n_clusters = {}'.format(n_clusters))\n",
    "        plt.scatter(X[:, 0], X[:, 1], c=y, cmap='tab10', marker='+', alpha=0.5)\n",
    "        plt.colorbar()\n",
    "\n",
    "    plt.show()\n",
    "    \n",
    "    plt.subplots(1, 2, figsize=(15, 5))\n",
    "    plt.subplots_adjust(wspace=0.4)\n",
    "    \n",
    "    plt.subplot(1, 2, 1)\n",
    "    plt.title('Scores')\n",
    "    plt.plot(all_n_clusters, homogeneity, label='Homogeneity')\n",
    "    plt.plot(all_n_clusters, completeness, label='Completeness')\n",
    "    plt.plot(all_n_clusters, v_measure, label='V-Measure')\n",
    "    plt.legend()\n",
    "    plt.ylabel('Score')\n",
    "    plt.xlabel('n_clusters')\n",
    "    \n",
    "    plt.subplot(1, 2, 2)\n",
    "    plt.title('Clustering time')\n",
    "    plt.plot(all_n_clusters, times)\n",
    "    plt.ylabel('Time (sec)')\n",
    "    plt.xlabel('n_clusters')\n",
    "    plt.show()"
   ]
  },
  {
   "cell_type": "markdown",
   "metadata": {},
   "source": [
    "#### 4.1 My Unnormalized Spectral Clustering"
   ]
  },
  {
   "cell_type": "markdown",
   "metadata": {},
   "source": [
    "#### 4.2 My Normalized Spectral Clustering - $L_{rw}$"
   ]
  },
  {
   "cell_type": "markdown",
   "metadata": {},
   "source": [
    "#### 4.3 My Normalized Spectral Clustering - $L_{sym}$"
   ]
  },
  {
   "cell_type": "markdown",
   "metadata": {},
   "source": [
    "#### 4.4 Spectral Clustering"
   ]
  },
  {
   "cell_type": "code",
   "execution_count": null,
   "metadata": {
    "scrolled": false
   },
   "outputs": [],
   "source": [
    "from sklearn.cluster import SpectralClustering\n",
    "\n",
    "clustering = SpectralClustering(n_neighbors=20, random_state=0, n_jobs=-1)\n",
    "\n",
    "do_the_clustering(clustering, x_train_embedded, y_train)"
   ]
  },
  {
   "cell_type": "markdown",
   "metadata": {},
   "source": [
    "### 5. Classification"
   ]
  },
  {
   "cell_type": "code",
   "execution_count": null,
   "metadata": {},
   "outputs": [],
   "source": []
  }
 ],
 "metadata": {
  "kernelspec": {
   "display_name": "Python 3",
   "language": "python",
   "name": "python3"
  },
  "language_info": {
   "codemirror_mode": {
    "name": "ipython",
    "version": 3
   },
   "file_extension": ".py",
   "mimetype": "text/x-python",
   "name": "python",
   "nbconvert_exporter": "python",
   "pygments_lexer": "ipython3",
   "version": "3.7.9"
  }
 },
 "nbformat": 4,
 "nbformat_minor": 4
}
